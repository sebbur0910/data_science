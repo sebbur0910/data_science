{
 "cells": [
  {
   "cell_type": "markdown",
   "metadata": {
    "pycharm": {
     "name": "#%% md\n"
    }
   },
   "source": [
    "# Python Plotting with MatPlotLib\n",
    "\n",
    "## Basic plots"
   ]
  },
  {
   "cell_type": "code",
   "execution_count": null,
   "metadata": {
    "pycharm": {
     "name": "#%%\n"
    }
   },
   "outputs": [],
   "source": [
    "import numpy as np\n",
    "import matplotlib.pyplot as plt\n",
    "import matplotlib.cbook as cbook"
   ]
  },
  {
   "cell_type": "code",
   "execution_count": null,
   "metadata": {
    "pycharm": {
     "name": "#%%\n"
    }
   },
   "outputs": [],
   "source": [
    "fig, ax = plt.subplots()\n",
    "data = [4,5,6,7,8]\n",
    "ax.bar([1,2,3,4,5], data);"
   ]
  },
  {
   "cell_type": "code",
   "execution_count": null,
   "metadata": {
    "pycharm": {
     "name": "#%%\n"
    }
   },
   "outputs": [],
   "source": [
    "test_1 = [5, 3, 7, 9, 8, 3]\n",
    "test_2 = [5, 8, 8, 2, 7, 6]\n",
    "x = np.arange(len(test_1))\n",
    "students = [\"Alex\", \"Katie\", \"Maya\", \"Felix\", \"Lauren\", \"Arjun\"]\n",
    "\n",
    "fig, axs = plt.subplots(3, 2, figsize=(12,10))\n",
    "\n",
    "# Bar chart\n",
    "axs[0,0].bar(students, test_1)\n",
    "axs[0,0].set_title('Bar Graph')\n",
    "\n",
    "# Line graph\n",
    "axs[0,1].plot(x, test_1, label=\"Test 1\", marker='*', linestyle=\":\")\n",
    "axs[0,1].plot(x, test_2, label=\"Test 2\", marker='o', linestyle=\"-.\")\n",
    "axs[0,1].set_title('Line Graph')\n",
    "axs[0,1].legend()\n",
    "\n",
    "# Scatter plot\n",
    "axs[1,0].grid()\n",
    "axs[1,0].scatter(test_1, test_2, s=60)\n",
    "axs[1,0].set_title('Scatter Plot')\n",
    "axs[1,0].set_xlabel('Test 1 score')\n",
    "axs[1,0].set_ylabel('Test 2 score')\n",
    "\n",
    "# Stacked bar chart\n",
    "axs[1,1].barh(students, test_1, label=\"Test 1\", color='indigo')\n",
    "axs[1,1].barh(students, test_2, label=\"Test 2\", left=test_1, color=\"violet\")\n",
    "axs[1,1].legend()\n",
    "axs[1,1].grid(axis='x')\n",
    "axs[1,1].set_axisbelow(True)\n",
    "axs[1,1].set_title('Horizontal Stacked Bar Chart')\n",
    "axs[1,1].set_xlabel('Total test scores');\n",
    "\n",
    "# Vertical stacked bar chart\n",
    "axs[2,0].bar(students, test_1, label=\"Test 1\", color='indigo')\n",
    "axs[2,0].bar(students, test_2, label=\"Test 2\", bottom=test_1, color=\"violet\")\n",
    "axs[2,0].legend()\n",
    "axs[2,0].grid(axis='x')\n",
    "axs[2,0].set_axisbelow(True)\n",
    "axs[2,0].set_title('Vertical Stacked Bar Chart')\n",
    "axs[2,0].set_ylabel('Total test scores');"
   ]
  },
  {
   "cell_type": "code",
   "execution_count": null,
   "outputs": [],
   "source": [
    "price_data = (cbook.get_sample_data('goog.npz', np_load=True)['price_data']\n",
    "              .view(np.recarray))\n",
    "price_data = price_data[-250:]  # get the most recent 250 trading days\n",
    "\n",
    "delta1 = np.diff(price_data.adj_close) / price_data.adj_close[:-1]\n",
    "\n",
    "# Marker size in units of points^2\n",
    "volume = (15 * price_data.volume[:-2] / price_data.volume[0])**2\n",
    "close = 0.003 * price_data.close[:-2] / 0.003 * price_data.open[:-2]\n",
    "\n",
    "fig, ax = plt.subplots()\n",
    "ax.scatter(delta1[:-1], delta1[1:], c=close, s=volume, alpha=0.5)\n",
    "\n",
    "ax.set_xlabel(r'$\\Delta_i$', fontsize=15)\n",
    "ax.set_ylabel(r'$\\Delta_{i+1}$', fontsize=15)\n",
    "ax.set_title('Volume and percent change')\n",
    "\n",
    "ax.grid(True)\n",
    "fig.tight_layout()\n",
    "\n"
   ],
   "metadata": {
    "collapsed": false,
    "pycharm": {
     "name": "#%%\n"
    }
   }
  },
  {
   "cell_type": "code",
   "execution_count": null,
   "outputs": [],
   "source": [
    "people = (\"Seb\", \"Bob\", \"Phil\")\n",
    "measurements = {\n",
    "    \"Height\": (189, 412, 100),\n",
    "    \"Weight\": (72, 32, 1),\n",
    "    \"Age\": (17, 12, 99)\n",
    "}\n",
    "\n",
    "x = np.arrange(len(people))\n",
    "width = 0.25\n",
    "multiplier = 0\n",
    "\n",
    "fig, ax = plt.subplots(layout=\"constrained\")\n",
    "\n",
    "for category, measurement in measurements.items():\n",
    "    offset ="
   ],
   "metadata": {
    "collapsed": false,
    "pycharm": {
     "name": "#%%\n"
    }
   }
  }
 ],
 "metadata": {
  "kernelspec": {
   "display_name": "Python 3 (ipykernel)",
   "language": "python",
   "name": "python3"
  },
  "language_info": {
   "codemirror_mode": {
    "name": "ipython",
    "version": 3
   },
   "file_extension": ".py",
   "mimetype": "text/x-python",
   "name": "python",
   "nbconvert_exporter": "python",
   "pygments_lexer": "ipython3",
   "version": "3.8.1"
  }
 },
 "nbformat": 4,
 "nbformat_minor": 1
}